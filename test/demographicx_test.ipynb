{
 "cells": [
  {
   "cell_type": "code",
   "execution_count": 5,
   "metadata": {},
   "outputs": [
    {
     "output_type": "stream",
     "name": "stdout",
     "text": [
      "Collecting git+https://github.com/sciosci/demographicx\n",
      "  Cloning https://github.com/sciosci/demographicx to /tmp/pip-req-build-_8a508yy\n",
      "Requirement already satisfied: numpy in /home/jim/anaconda3/lib/python3.8/site-packages (from demographicx-pkg-LiamLiang==0.0.1) (1.19.2)\n",
      "Requirement already satisfied: torch in /home/jim/anaconda3/lib/python3.8/site-packages (from demographicx-pkg-LiamLiang==0.0.1) (1.8.1)\n",
      "Requirement already satisfied: scipy in /home/jim/anaconda3/lib/python3.8/site-packages (from demographicx-pkg-LiamLiang==0.0.1) (1.5.2)\n",
      "Requirement already satisfied: transformers in /home/jim/anaconda3/lib/python3.8/site-packages (from demographicx-pkg-LiamLiang==0.0.1) (4.5.1)\n",
      "Requirement already satisfied: typing_extensions in /home/jim/anaconda3/lib/python3.8/site-packages (from torch->demographicx-pkg-LiamLiang==0.0.1) (3.7.4.3)\n",
      "Requirement already satisfied: packaging in /home/jim/anaconda3/lib/python3.8/site-packages (from transformers->demographicx-pkg-LiamLiang==0.0.1) (20.4)\n",
      "Requirement already satisfied: tokenizers<0.11,>=0.10.1 in /home/jim/anaconda3/lib/python3.8/site-packages (from transformers->demographicx-pkg-LiamLiang==0.0.1) (0.10.2)\n",
      "Requirement already satisfied: regex!=2019.12.17 in /home/jim/anaconda3/lib/python3.8/site-packages (from transformers->demographicx-pkg-LiamLiang==0.0.1) (2020.10.15)\n",
      "Requirement already satisfied: tqdm>=4.27 in /home/jim/anaconda3/lib/python3.8/site-packages (from transformers->demographicx-pkg-LiamLiang==0.0.1) (4.50.2)\n",
      "Requirement already satisfied: sacremoses in /home/jim/anaconda3/lib/python3.8/site-packages (from transformers->demographicx-pkg-LiamLiang==0.0.1) (0.0.45)\n",
      "Requirement already satisfied: filelock in /home/jim/anaconda3/lib/python3.8/site-packages (from transformers->demographicx-pkg-LiamLiang==0.0.1) (3.0.12)\n",
      "Requirement already satisfied: requests in /home/jim/anaconda3/lib/python3.8/site-packages (from transformers->demographicx-pkg-LiamLiang==0.0.1) (2.24.0)\n",
      "Requirement already satisfied: pyparsing>=2.0.2 in /home/jim/anaconda3/lib/python3.8/site-packages (from packaging->transformers->demographicx-pkg-LiamLiang==0.0.1) (2.4.7)\n",
      "Requirement already satisfied: six in /home/jim/anaconda3/lib/python3.8/site-packages (from packaging->transformers->demographicx-pkg-LiamLiang==0.0.1) (1.15.0)\n",
      "Requirement already satisfied: joblib in /home/jim/anaconda3/lib/python3.8/site-packages (from sacremoses->transformers->demographicx-pkg-LiamLiang==0.0.1) (0.17.0)\n",
      "Requirement already satisfied: click in /home/jim/anaconda3/lib/python3.8/site-packages (from sacremoses->transformers->demographicx-pkg-LiamLiang==0.0.1) (7.1.2)\n",
      "Requirement already satisfied: certifi>=2017.4.17 in /home/jim/anaconda3/lib/python3.8/site-packages (from requests->transformers->demographicx-pkg-LiamLiang==0.0.1) (2020.6.20)\n",
      "Requirement already satisfied: urllib3!=1.25.0,!=1.25.1,<1.26,>=1.21.1 in /home/jim/anaconda3/lib/python3.8/site-packages (from requests->transformers->demographicx-pkg-LiamLiang==0.0.1) (1.25.11)\n",
      "Requirement already satisfied: chardet<4,>=3.0.2 in /home/jim/anaconda3/lib/python3.8/site-packages (from requests->transformers->demographicx-pkg-LiamLiang==0.0.1) (3.0.4)\n",
      "Requirement already satisfied: idna<3,>=2.5 in /home/jim/anaconda3/lib/python3.8/site-packages (from requests->transformers->demographicx-pkg-LiamLiang==0.0.1) (2.10)\n",
      "Building wheels for collected packages: demographicx-pkg-LiamLiang\n",
      "  Building wheel for demographicx-pkg-LiamLiang (setup.py) ... \u001b[?25ldone\n",
      "\u001b[?25h  Created wheel for demographicx-pkg-LiamLiang: filename=demographicx_pkg_LiamLiang-0.0.1-py3-none-any.whl size=2215 sha256=a944bf8485e49e8a88d0b6c8e1b2139ba0e1d982f2e5e317456afd2fcc0a1aa3\n",
      "  Stored in directory: /tmp/pip-ephem-wheel-cache-adjx0gsx/wheels/5f/8a/a9/20b5e6760eb81a67e2194edbf7cc0d8cc7c926ff904d4378e3\n",
      "Successfully built demographicx-pkg-LiamLiang\n",
      "Installing collected packages: demographicx-pkg-LiamLiang\n",
      "Successfully installed demographicx-pkg-LiamLiang-0.0.1\n"
     ]
    }
   ],
   "source": [
    "!pip install git+https://github.com/sciosci/demographicx"
   ]
  },
  {
   "cell_type": "code",
   "execution_count": 14,
   "metadata": {},
   "outputs": [],
   "source": [
    "from demographicx.classifier import GenderClassifier, RaceClassifier"
   ]
  },
  {
   "cell_type": "code",
   "execution_count": 15,
   "metadata": {},
   "outputs": [],
   "source": [
    "gender_classifier = GenderClassifier()"
   ]
  },
  {
   "cell_type": "code",
   "execution_count": 16,
   "metadata": {},
   "outputs": [
    {
     "output_type": "execute_result",
     "data": {
      "text/plain": [
       "{'male': 0.9886190672823015,\n",
       " 'unknown': 0.011367974526753396,\n",
       " 'female': 1.2958190945360288e-05}"
      ]
     },
     "metadata": {},
     "execution_count": 16
    }
   ],
   "source": [
    "mod.predict('Daniel')"
   ]
  },
  {
   "cell_type": "code",
   "execution_count": 17,
   "metadata": {},
   "outputs": [],
   "source": [
    "race_classifier = classifier.RaceClassifier()"
   ]
  },
  {
   "cell_type": "code",
   "execution_count": 18,
   "metadata": {},
   "outputs": [
    {
     "output_type": "execute_result",
     "data": {
      "text/plain": [
       "{'Black': 2.1461191541442314e-06,\n",
       " 'Hispanic': 4.0070474029127346e-05,\n",
       " 'White': 0.0002176521167431309,\n",
       " 'Asian': 0.999740131290074}"
      ]
     },
     "metadata": {},
     "execution_count": 18
    }
   ],
   "source": [
    "mod_race.predict('lizhen liang')"
   ]
  },
  {
   "cell_type": "code",
   "execution_count": 19,
   "metadata": {},
   "outputs": [
    {
     "output_type": "execute_result",
     "data": {
      "text/plain": [
       "{'Black': 4.120965729769303e-06,\n",
       " 'Hispanic': 0.0023926903023342287,\n",
       " 'White': 0.9963380370701861,\n",
       " 'Asian': 0.00126515166175015}"
      ]
     },
     "metadata": {},
     "execution_count": 19
    }
   ],
   "source": [
    "mod_race.predict('daniel wegmann')"
   ]
  },
  {
   "cell_type": "code",
   "execution_count": null,
   "metadata": {},
   "outputs": [],
   "source": []
  }
 ],
 "metadata": {
  "kernelspec": {
   "name": "python385jvsc74a57bd0e83f61eaa130532d9f4ce3adafac8122af6bc0873c86bb6bc2f3cd3ec5ff09b3",
   "display_name": "Python 3.8.5 64-bit ('base': conda)"
  },
  "language_info": {
   "codemirror_mode": {
    "name": "ipython",
    "version": 3
   },
   "file_extension": ".py",
   "mimetype": "text/x-python",
   "name": "python",
   "nbconvert_exporter": "python",
   "pygments_lexer": "ipython3",
   "version": "3.8.5"
  }
 },
 "nbformat": 4,
 "nbformat_minor": 4
}