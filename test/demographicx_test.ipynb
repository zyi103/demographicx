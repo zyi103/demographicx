{
 "cells": [
  {
   "cell_type": "code",
   "execution_count": 40,
   "metadata": {},
   "outputs": [],
   "source": [
    "import demographicx.demographicx.classifier as demographicx"
   ]
  },
  {
   "cell_type": "code",
   "execution_count": 34,
   "metadata": {},
   "outputs": [
    {
     "output_type": "stream",
     "name": "stdout",
     "text": [
      "Collecting git+git://github.com:sciosci/demographicx.git\n  Cloning git://github.com:sciosci/demographicx.git to /tmp/pip-req-build-5ekwtaj6\n\u001b[31mERROR: Command errored out with exit status 128: git clone -q git://github.com:sciosci/demographicx.git /tmp/pip-req-build-5ekwtaj6 Check the logs for full command output.\u001b[0m\n"
     ]
    }
   ],
   "source": [
    "!pip install git+git://github.com:sciosci/demographicx.git"
   ]
  },
  {
   "cell_type": "code",
   "execution_count": 41,
   "metadata": {},
   "outputs": [],
   "source": [
    "mod = demographicx.GenderClassifier()"
   ]
  },
  {
   "cell_type": "code",
   "execution_count": 42,
   "metadata": {},
   "outputs": [
    {
     "output_type": "execute_result",
     "data": {
      "text/plain": [
       "{'male': 0.9886190672823015,\n",
       " 'unknown': 0.011367974526753396,\n",
       " 'female': 1.2958190945360288e-05}"
      ]
     },
     "metadata": {},
     "execution_count": 42
    }
   ],
   "source": [
    "mod.predict('Daniel')"
   ]
  },
  {
   "cell_type": "code",
   "execution_count": 43,
   "metadata": {},
   "outputs": [],
   "source": [
    "mod_race = demographicx.RaceClassifier()"
   ]
  },
  {
   "cell_type": "code",
   "execution_count": 44,
   "metadata": {},
   "outputs": [
    {
     "output_type": "execute_result",
     "data": {
      "text/plain": [
       "{'Black': 2.1461191541442314e-06,\n",
       " 'Hispanic': 4.0070474029127346e-05,\n",
       " 'White': 0.0002176521167431309,\n",
       " 'Asian': 0.999740131290074}"
      ]
     },
     "metadata": {},
     "execution_count": 44
    }
   ],
   "source": [
    "mod_race.predict('lizhen liang')"
   ]
  },
  {
   "cell_type": "code",
   "execution_count": 45,
   "metadata": {},
   "outputs": [
    {
     "output_type": "execute_result",
     "data": {
      "text/plain": [
       "{'Black': 4.120965729769303e-06,\n",
       " 'Hispanic': 0.0023926903023342287,\n",
       " 'White': 0.9963380370701861,\n",
       " 'Asian': 0.00126515166175015}"
      ]
     },
     "metadata": {},
     "execution_count": 45
    }
   ],
   "source": [
    "mod_race.predict('daniel wegmann')"
   ]
  },
  {
   "cell_type": "code",
   "execution_count": null,
   "metadata": {},
   "outputs": [],
   "source": []
  }
 ],
 "metadata": {
  "kernelspec": {
   "name": "python385jvsc74a57bd0e83f61eaa130532d9f4ce3adafac8122af6bc0873c86bb6bc2f3cd3ec5ff09b3",
   "display_name": "Python 3.8.5 64-bit ('base': conda)"
  },
  "language_info": {
   "codemirror_mode": {
    "name": "ipython",
    "version": 3
   },
   "file_extension": ".py",
   "mimetype": "text/x-python",
   "name": "python",
   "nbconvert_exporter": "python",
   "pygments_lexer": "ipython3",
   "version": "3.8.5"
  }
 },
 "nbformat": 4,
 "nbformat_minor": 4
}